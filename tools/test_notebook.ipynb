{
 "cells": [
  {
   "cell_type": "code",
   "execution_count": 1,
   "metadata": {},
   "outputs": [
    {
     "name": "stderr",
     "output_type": "stream",
     "text": [
      "C:\\Users\\nexty\\anaconda3\\envs\\PVT\\lib\\site-packages\\mmcv\\__init__.py:20: UserWarning: On January 1, 2023, MMCV will release v2.0.0, in which it will remove components related to the training process and add a data transformation module. In addition, it will rename the package names mmcv to mmcv-lite and mmcv-full to mmcv. See https://github.com/open-mmlab/mmcv/blob/master/docs/en/compatibility.md for more details.\n",
      "  warnings.warn(\n"
     ]
    }
   ],
   "source": [
    "import os\n",
    "import os.path as osp\n",
    "import mmcv\n",
    "import torch\n",
    "from mmcv.cnn.utils import revert_sync_batchnorm\n",
    "from mmcv.runner import (get_dist_info, load_checkpoint, wrap_fp16_model)\n",
    "\n",
    "from mmseg.apis import single_gpu_test\n",
    "from mmseg.datasets import build_dataloader, build_dataset\n",
    "from mmseg.models import build_segmentor\n",
    "from mmseg.utils import build_dp, get_device, setup_multi_processes\n",
    "\n",
    "import pvt, pvtv2"
   ]
  },
  {
   "cell_type": "code",
   "execution_count": 2,
   "metadata": {
    "pycharm": {
     "name": "#%%\n"
    }
   },
   "outputs": [],
   "source": [
    "os.environ['CUDA_VISIBLE_DEVICES'] = '0'\n",
    "os.environ['LOCAL_RANK'] = '0'\n"
   ]
  },
  {
   "cell_type": "code",
   "execution_count": 3,
   "metadata": {
    "pycharm": {
     "name": "#%%\n"
    }
   },
   "outputs": [],
   "source": [
    "# указываем пути конфига, весов модели, метрики для теста и надо ли отрисовывать разметку и с какой прозрачностью\n",
    "cfg_path = '../my_configs/fpn_pvtv2_b5_casia512_320k.py'\n",
    "checkpoint_path = '../work_dirs/casia512_320k/fpn_pvtv2_b5/iter_165000.pth'\n",
    "cfg = mmcv.Config.fromfile(cfg_path)\n",
    "opacity = 1\n",
    "show = True\n",
    "show_dir = '../work_dirs/casia512_320k/fpn_pvtv2_b5/preds'\n",
    "eval_metrics = ['mIoU', 'mFscore', 'mDice']\n",
    "cfg.work_dir = '../work_dirs/casia512_320k/fpn_pvtv2_b5'\n",
    "mmcv.mkdir_or_exist(osp.abspath(cfg.work_dir))\n",
    "json_file = osp.join(cfg.work_dir, f'eval_single_scale.json')"
   ]
  },
  {
   "cell_type": "code",
   "execution_count": 4,
   "metadata": {
    "pycharm": {
     "name": "#%%\n"
    }
   },
   "outputs": [
    {
     "name": "stderr",
     "output_type": "stream",
     "text": [
      "2023-07-29 00:37:00,415 - mmseg - INFO - OpenCV num_threads is `16\n"
     ]
    }
   ],
   "source": [
    "# Предварительные настройки\n",
    "setup_multi_processes(cfg)\n",
    "if cfg.get('cudnn_benchmark', False):\n",
    "    torch.backends.cudnn.benchmark = True\n",
    "cfg.model.pretrained = None\n",
    "cfg.data.test.test_mode = True\n",
    "distributed = False\n",
    "rank, _ = get_dist_info()\n",
    "cfg.gpu_ids = range(1)\n",
    "cfg.device = get_device()\n"
   ]
  },
  {
   "cell_type": "code",
   "execution_count": 5,
   "metadata": {
    "pycharm": {
     "name": "#%%\n"
    }
   },
   "outputs": [
    {
     "name": "stderr",
     "output_type": "stream",
     "text": [
      "2023-07-29 00:37:00,437 - mmseg - INFO - Loaded 511 images\n"
     ]
    }
   ],
   "source": [
    "# Строим датасет\n",
    "dataset = build_dataset(cfg.data.test)\n",
    "loader_cfg = dict(\n",
    "        num_gpus=len(cfg.gpu_ids),\n",
    "        dist=distributed,\n",
    "        shuffle=False)\n",
    "\n",
    "loader_cfg.update({\n",
    "        k: v\n",
    "        for k, v in cfg.data.items() if k not in [\n",
    "            'train', 'val', 'test', 'train_dataloader', 'val_dataloader',\n",
    "            'test_dataloader'\n",
    "        ]\n",
    "})\n",
    "test_loader_cfg = {\n",
    "    **loader_cfg,\n",
    "    'samples_per_gpu': 1,\n",
    "    'shuffle': False,\n",
    "    **cfg.data.get('test_dataloader', {})\n",
    "}\n",
    "data_loader = build_dataloader(dataset, **test_loader_cfg)"
   ]
  },
  {
   "cell_type": "code",
   "execution_count": 6,
   "metadata": {
    "pycharm": {
     "name": "#%%\n"
    }
   },
   "outputs": [
    {
     "name": "stderr",
     "output_type": "stream",
     "text": [
      "c:\\users\\nexty\\desktop\\pvtv2-seg\\mmsegmentation\\mmseg\\models\\decode_heads\\decode_head.py:120: UserWarning: threshold is not defined for binary, and defaultsto 0.3\n",
      "  warnings.warn('threshold is not defined for binary, and defaults'\n",
      "c:\\users\\nexty\\desktop\\pvtv2-seg\\mmsegmentation\\mmseg\\models\\losses\\cross_entropy_loss.py:235: UserWarning: Default ``avg_non_ignore`` is False, if you would like to ignore the certain label and average loss over non-ignore labels, which is the same with PyTorch official cross_entropy, set ``avg_non_ignore=True``.\n",
      "  warnings.warn(\n"
     ]
    },
    {
     "name": "stdout",
     "output_type": "stream",
     "text": [
      "load checkpoint from local path: ../work_dirs/casia512_320k/fpn_pvtv2_b5/iter_165000.pth\n"
     ]
    }
   ],
   "source": [
    "# Инициируем модель\n",
    "cfg.model.train_cfg = None\n",
    "model = build_segmentor(cfg.model, test_cfg=cfg.get('test_cfg'))\n",
    "fp16_cfg = cfg.get('fp16', None)\n",
    "if fp16_cfg is not None:\n",
    "    wrap_fp16_model(model)\n",
    "checkpoint = load_checkpoint(model, checkpoint_path, map_location='cpu')\n",
    "model.CLASSES = dataset.CLASSES\n",
    "model.PALETTE = dataset.PALETTE\n",
    "\n",
    "torch.cuda.empty_cache()\n",
    "model = revert_sync_batchnorm(model)\n",
    "model = build_dp(model, cfg.device, device_ids=cfg.gpu_ids)\n"
   ]
  },
  {
   "cell_type": "code",
   "execution_count": null,
   "metadata": {
    "pycharm": {
     "name": "#%%\n"
    }
   },
   "outputs": [
    {
     "name": "stdout",
     "output_type": "stream",
     "text": [
      "[                                                  ] 1/511, 0.2 task/s, elapsed: 6s, ETA:  2845s"
     ]
    },
    {
     "name": "stderr",
     "output_type": "stream",
     "text": [
      "C:\\Users\\nexty\\anaconda3\\envs\\PVT\\lib\\site-packages\\torch\\nn\\functional.py:1806: UserWarning: nn.functional.sigmoid is deprecated. Use torch.sigmoid instead.\n",
      "  warnings.warn(\"nn.functional.sigmoid is deprecated. Use torch.sigmoid instead.\")\n"
     ]
    },
    {
     "name": "stdout",
     "output_type": "stream",
     "text": [
      "[>>>>>>>>>>>>>>>>>>>>>>>>>>>>>>>>>>>>>>>>>>>>>>>>> ] 504/511, 4.5 task/s, elapsed: 111s, ETA:     2s"
     ]
    }
   ],
   "source": [
    "# Процесс тестирования\n",
    "eval_kwargs = {}\n",
    "results = single_gpu_test(\n",
    "            model,\n",
    "            data_loader,\n",
    "            show,\n",
    "            show_dir,\n",
    "            False,\n",
    "            opacity,\n",
    "            pre_eval=eval_metrics,\n",
    "            format_only=False,\n",
    "            format_args=eval_kwargs)\n",
    "\n",
    "eval_kwargs.update(metric=eval_metrics)\n",
    "metric = dataset.evaluate(results, **eval_kwargs)\n",
    "metric_dict = dict(config=cfg_path, metric=metric)\n",
    "mmcv.dump(metric_dict, json_file, indent=4)\n"
   ]
  }
 ],
 "metadata": {
  "kernelspec": {
   "display_name": "Python 3 (ipykernel)",
   "language": "python",
   "name": "python3"
  },
  "language_info": {
   "codemirror_mode": {
    "name": "ipython",
    "version": 3
   },
   "file_extension": ".py",
   "mimetype": "text/x-python",
   "name": "python",
   "nbconvert_exporter": "python",
   "pygments_lexer": "ipython3",
   "version": "3.8.17"
  },
  "pycharm": {
   "stem_cell": {
    "cell_type": "raw",
    "metadata": {
     "collapsed": false
    },
    "source": []
   }
  }
 },
 "nbformat": 4,
 "nbformat_minor": 1
}
