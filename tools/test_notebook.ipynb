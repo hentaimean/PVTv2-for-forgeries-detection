{
 "cells": [
  {
   "cell_type": "code",
   "execution_count": null,
   "metadata": {},
   "outputs": [],
   "source": [
    "import os\n",
    "import os.path as osp\n",
    "import mmcv\n",
    "import torch\n",
    "from mmcv.cnn.utils import revert_sync_batchnorm\n",
    "from mmcv.runner import (get_dist_info, load_checkpoint, wrap_fp16_model)\n",
    "\n",
    "from mmseg.apis import single_gpu_test\n",
    "from mmseg.datasets import build_dataloader, build_dataset\n",
    "from mmseg.models import build_segmentor\n",
    "from mmseg.utils import build_dp, get_device, setup_multi_processes\n",
    "\n",
    "import pvt, pvtv2"
   ]
  },
  {
   "cell_type": "code",
   "execution_count": 2,
   "metadata": {
    "pycharm": {
     "name": "#%%\n"
    }
   },
   "outputs": [],
   "source": [
    "os.environ['CUDA_VISIBLE_DEVICES'] = '0'\n",
    "os.environ['LOCAL_RANK'] = '0'\n"
   ]
  },
  {
   "cell_type": "code",
   "execution_count": 3,
   "metadata": {
    "pycharm": {
     "name": "#%%\n"
    }
   },
   "outputs": [],
   "source": [
    "cfg_path = '../my_configs/fpn_pvtv2_b5_casia512_320k.py'\n",
    "checkpoint_path = '../work_dirs/casia512_320k/fpn_pvtv2_b5/iter_165000.pth'\n",
    "cfg = mmcv.Config.fromfile(cfg_path)\n",
    "opacity = 1\n",
    "show = True\n",
    "show_dir = '../work_dirs/casia512_320k/fpn_pvtv2_b5/preds'\n",
    "eval_metrics = ['mIoU', 'mFscore', 'mDice']\n",
    "cfg.work_dir = '../work_dirs/casia512_320k/fpn_pvtv2_b5'\n",
    "mmcv.mkdir_or_exist(osp.abspath(cfg.work_dir))\n",
    "json_file = osp.join(cfg.work_dir, f'eval_single_scale.json')"
   ]
  },
  {
   "cell_type": "code",
   "execution_count": null,
   "metadata": {
    "pycharm": {
     "name": "#%%\n"
    }
   },
   "outputs": [],
   "source": [
    "setup_multi_processes(cfg)\n",
    "if cfg.get('cudnn_benchmark', False):\n",
    "    torch.backends.cudnn.benchmark = True\n",
    "cfg.model.pretrained = None\n",
    "cfg.data.test.test_mode = True\n",
    "distributed = False\n",
    "rank, _ = get_dist_info()\n",
    "cfg.gpu_ids = range(1)\n",
    "cfg.device = get_device()\n"
   ]
  },
  {
   "cell_type": "code",
   "execution_count": null,
   "metadata": {
    "pycharm": {
     "name": "#%%\n"
    }
   },
   "outputs": [],
   "source": [
    "dataset = build_dataset(cfg.data.test)\n",
    "loader_cfg = dict(\n",
    "        num_gpus=len(cfg.gpu_ids),\n",
    "        dist=distributed,\n",
    "        shuffle=False)\n",
    "\n",
    "loader_cfg.update({\n",
    "        k: v\n",
    "        for k, v in cfg.data.items() if k not in [\n",
    "            'train', 'val', 'test', 'train_dataloader', 'val_dataloader',\n",
    "            'test_dataloader'\n",
    "        ]\n",
    "})\n",
    "test_loader_cfg = {\n",
    "    **loader_cfg,\n",
    "    'samples_per_gpu': 1,\n",
    "    'shuffle': False,\n",
    "    **cfg.data.get('test_dataloader', {})\n",
    "}\n",
    "data_loader = build_dataloader(dataset, **test_loader_cfg)"
   ]
  },
  {
   "cell_type": "code",
   "execution_count": null,
   "metadata": {
    "pycharm": {
     "name": "#%%\n"
    }
   },
   "outputs": [],
   "source": [
    "cfg.model.train_cfg = None\n",
    "model = build_segmentor(cfg.model, test_cfg=cfg.get('test_cfg'))\n",
    "fp16_cfg = cfg.get('fp16', None)\n",
    "if fp16_cfg is not None:\n",
    "    wrap_fp16_model(model)\n",
    "checkpoint = load_checkpoint(model, checkpoint_path, map_location='cpu')\n",
    "model.CLASSES = dataset.CLASSES\n",
    "model.PALETTE = dataset.PALETTE\n",
    "\n",
    "torch.cuda.empty_cache()\n",
    "model = revert_sync_batchnorm(model)\n",
    "model = build_dp(model, cfg.device, device_ids=cfg.gpu_ids)\n"
   ]
  },
  {
   "cell_type": "code",
   "execution_count": null,
   "metadata": {
    "pycharm": {
     "name": "#%%\n"
    }
   },
   "outputs": [],
   "source": [
    "eval_kwargs = {}\n",
    "results = single_gpu_test(\n",
    "            model,\n",
    "            data_loader,\n",
    "            show,\n",
    "            show_dir,\n",
    "            False,\n",
    "            opacity,\n",
    "            pre_eval=eval_metrics,\n",
    "            format_only=False,\n",
    "            format_args=eval_kwargs)\n",
    "\n",
    "eval_kwargs.update(metric=eval_metrics)\n",
    "metric = dataset.evaluate(results, **eval_kwargs)\n",
    "metric_dict = dict(config=cfg_path, metric=metric)\n",
    "mmcv.dump(metric_dict, json_file, indent=4)\n"
   ]
  }
 ],
 "metadata": {
  "kernelspec": {
   "display_name": "Python 3 (ipykernel)",
   "language": "python",
   "name": "python3"
  },
  "language_info": {
   "codemirror_mode": {
    "name": "ipython",
    "version": 3
   },
   "file_extension": ".py",
   "mimetype": "text/x-python",
   "name": "python",
   "nbconvert_exporter": "python",
   "pygments_lexer": "ipython3",
   "version": "3.8.17"
  },
  "pycharm": {
   "stem_cell": {
    "cell_type": "raw",
    "metadata": {
     "collapsed": false
    },
    "source": []
   }
  }
 },
 "nbformat": 4,
 "nbformat_minor": 1
}
